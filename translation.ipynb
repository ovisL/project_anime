{
 "cells": [
  {
   "cell_type": "code",
   "execution_count": 10,
   "metadata": {},
   "outputs": [
    {
     "name": "stdout",
     "output_type": "stream",
     "text": [
      "Requirement already satisfied: googletrans==4.0.0rc1 in c:\\users\\didhw\\anaconda3\\envs\\project_anime\\lib\\site-packages (4.0.0rc1)\n",
      "Requirement already satisfied: httpx==0.13.3 in c:\\users\\didhw\\anaconda3\\envs\\project_anime\\lib\\site-packages (from googletrans==4.0.0rc1) (0.13.3)\n",
      "Requirement already satisfied: certifi in c:\\users\\didhw\\anaconda3\\envs\\project_anime\\lib\\site-packages (from httpx==0.13.3->googletrans==4.0.0rc1) (2023.7.22)\n",
      "Requirement already satisfied: hstspreload in c:\\users\\didhw\\anaconda3\\envs\\project_anime\\lib\\site-packages (from httpx==0.13.3->googletrans==4.0.0rc1) (2023.1.1)\n",
      "Requirement already satisfied: sniffio in c:\\users\\didhw\\anaconda3\\envs\\project_anime\\lib\\site-packages (from httpx==0.13.3->googletrans==4.0.0rc1) (1.3.0)\n",
      "Requirement already satisfied: chardet==3.* in c:\\users\\didhw\\anaconda3\\envs\\project_anime\\lib\\site-packages (from httpx==0.13.3->googletrans==4.0.0rc1) (3.0.4)\n",
      "Requirement already satisfied: idna==2.* in c:\\users\\didhw\\anaconda3\\envs\\project_anime\\lib\\site-packages (from httpx==0.13.3->googletrans==4.0.0rc1) (2.10)\n",
      "Requirement already satisfied: rfc3986<2,>=1.3 in c:\\users\\didhw\\anaconda3\\envs\\project_anime\\lib\\site-packages (from httpx==0.13.3->googletrans==4.0.0rc1) (1.5.0)\n",
      "Requirement already satisfied: httpcore==0.9.* in c:\\users\\didhw\\anaconda3\\envs\\project_anime\\lib\\site-packages (from httpx==0.13.3->googletrans==4.0.0rc1) (0.9.1)\n",
      "Requirement already satisfied: h11<0.10,>=0.8 in c:\\users\\didhw\\anaconda3\\envs\\project_anime\\lib\\site-packages (from httpcore==0.9.*->httpx==0.13.3->googletrans==4.0.0rc1) (0.9.0)\n",
      "Requirement already satisfied: h2==3.* in c:\\users\\didhw\\anaconda3\\envs\\project_anime\\lib\\site-packages (from httpcore==0.9.*->httpx==0.13.3->googletrans==4.0.0rc1) (3.2.0)\n",
      "Requirement already satisfied: hyperframe<6,>=5.2.0 in c:\\users\\didhw\\anaconda3\\envs\\project_anime\\lib\\site-packages (from h2==3.*->httpcore==0.9.*->httpx==0.13.3->googletrans==4.0.0rc1) (5.2.0)\n",
      "Requirement already satisfied: hpack<4,>=3.0 in c:\\users\\didhw\\anaconda3\\envs\\project_anime\\lib\\site-packages (from h2==3.*->httpcore==0.9.*->httpx==0.13.3->googletrans==4.0.0rc1) (3.0.0)\n"
     ]
    }
   ],
   "source": [
    "!pip install googletrans==4.0.0rc1"
   ]
  },
  {
   "cell_type": "code",
   "execution_count": 1,
   "metadata": {},
   "outputs": [],
   "source": [
    "import googletrans"
   ]
  },
  {
   "cell_type": "code",
   "execution_count": 2,
   "metadata": {},
   "outputs": [],
   "source": [
    "translator = googletrans.Translator()"
   ]
  },
  {
   "cell_type": "code",
   "execution_count": 5,
   "metadata": {},
   "outputs": [],
   "source": [
    "text = 'ーファーストキッスは終わらない'\n",
    "# text = 'hello world'\n",
    "output = translator.translate(text, dest='ko')"
   ]
  },
  {
   "cell_type": "code",
   "execution_count": 6,
   "metadata": {},
   "outputs": [
    {
     "data": {
      "text/plain": [
       "'-Fast Kiss는 끝나지 않았습니다'"
      ]
     },
     "execution_count": 6,
     "metadata": {},
     "output_type": "execute_result"
    }
   ],
   "source": [
    "output.text"
   ]
  }
 ],
 "metadata": {
  "kernelspec": {
   "display_name": "project_anime",
   "language": "python",
   "name": "python3"
  },
  "language_info": {
   "codemirror_mode": {
    "name": "ipython",
    "version": 3
   },
   "file_extension": ".py",
   "mimetype": "text/x-python",
   "name": "python",
   "nbconvert_exporter": "python",
   "pygments_lexer": "ipython3",
   "version": "3.9.17"
  },
  "orig_nbformat": 4
 },
 "nbformat": 4,
 "nbformat_minor": 2
}
